.. code:: ipython3

    import numpy as np
    import pandas as pd

.. code:: ipython3

    df = pd.read_csv('spam.csv', encoding='latin1')

.. code:: ipython3

    df.sample(5)




.. raw:: html

    <div>
    <style scoped>
        .dataframe tbody tr th:only-of-type {
            vertical-align: middle;
        }
    
        .dataframe tbody tr th {
            vertical-align: top;
        }
    
        .dataframe thead th {
            text-align: right;
        }
    </style>
    <table border="1" class="dataframe">
      <thead>
        <tr style="text-align: right;">
          <th></th>
          <th>v1</th>
          <th>v2</th>
          <th>Unnamed: 2</th>
          <th>Unnamed: 3</th>
          <th>Unnamed: 4</th>
        </tr>
      </thead>
      <tbody>
        <tr>
          <th>4921</th>
          <td>ham</td>
          <td>Hi Dear Call me its urgnt. I don't know whats ...</td>
          <td>NaN</td>
          <td>NaN</td>
          <td>NaN</td>
        </tr>
        <tr>
          <th>258</th>
          <td>spam</td>
          <td>We tried to contact you re your reply to our o...</td>
          <td>NaN</td>
          <td>NaN</td>
          <td>NaN</td>
        </tr>
        <tr>
          <th>996</th>
          <td>ham</td>
          <td>Yetunde i'm in class can you not run water on ...</td>
          <td>NaN</td>
          <td>NaN</td>
          <td>NaN</td>
        </tr>
        <tr>
          <th>3422</th>
          <td>spam</td>
          <td>Had your mobile 10 mths? Update to latest Oran...</td>
          <td>NaN</td>
          <td>NaN</td>
          <td>NaN</td>
        </tr>
        <tr>
          <th>1063</th>
          <td>spam</td>
          <td>We have new local dates in your area - Lots of...</td>
          <td>NaN</td>
          <td>NaN</td>
          <td>NaN</td>
        </tr>
      </tbody>
    </table>
    </div>



.. code:: ipython3

     df.shape




.. parsed-literal::

    (5572, 5)



.. code:: ipython3

    df.info()
    


.. parsed-literal::

    <class 'pandas.core.frame.DataFrame'>
    RangeIndex: 5572 entries, 0 to 5571
    Data columns (total 5 columns):
     #   Column      Non-Null Count  Dtype 
    ---  ------      --------------  ----- 
     0   v1          5572 non-null   object
     1   v2          5572 non-null   object
     2   Unnamed: 2  50 non-null     object
     3   Unnamed: 3  12 non-null     object
     4   Unnamed: 4  6 non-null      object
    dtypes: object(5)
    memory usage: 217.8+ KB
    

.. code:: ipython3

    df.drop(columns=['Unnamed: 2','Unnamed: 3','Unnamed: 4'],inplace=True)

.. code:: ipython3

    df.sample(5)




.. raw:: html

    <div>
    <style scoped>
        .dataframe tbody tr th:only-of-type {
            vertical-align: middle;
        }
    
        .dataframe tbody tr th {
            vertical-align: top;
        }
    
        .dataframe thead th {
            text-align: right;
        }
    </style>
    <table border="1" class="dataframe">
      <thead>
        <tr style="text-align: right;">
          <th></th>
          <th>v1</th>
          <th>v2</th>
        </tr>
      </thead>
      <tbody>
        <tr>
          <th>2671</th>
          <td>ham</td>
          <td>That's cool, I'll come by like  &amp;lt;#&amp;gt; ish</td>
        </tr>
        <tr>
          <th>2063</th>
          <td>spam</td>
          <td>URGENT! Your mobile No *********** WON a å£2,0...</td>
        </tr>
        <tr>
          <th>4289</th>
          <td>ham</td>
          <td>For you information, IKEA is spelled with all ...</td>
        </tr>
        <tr>
          <th>629</th>
          <td>spam</td>
          <td>Todays Vodafone numbers ending with 4882 are s...</td>
        </tr>
        <tr>
          <th>3816</th>
          <td>ham</td>
          <td>This is my number by vivek..</td>
        </tr>
      </tbody>
    </table>
    </div>



.. code:: ipython3

    df.rename(columns={'v1':'target','v2':'text'},inplace=True)
    df.sample(5)




.. raw:: html

    <div>
    <style scoped>
        .dataframe tbody tr th:only-of-type {
            vertical-align: middle;
        }
    
        .dataframe tbody tr th {
            vertical-align: top;
        }
    
        .dataframe thead th {
            text-align: right;
        }
    </style>
    <table border="1" class="dataframe">
      <thead>
        <tr style="text-align: right;">
          <th></th>
          <th>target</th>
          <th>text</th>
        </tr>
      </thead>
      <tbody>
        <tr>
          <th>2373</th>
          <td>spam</td>
          <td>XMAS Prize draws! We are trying to contact U. ...</td>
        </tr>
        <tr>
          <th>707</th>
          <td>ham</td>
          <td>Quite late lar... Ard 12 anyway i wun b drivin...</td>
        </tr>
        <tr>
          <th>2840</th>
          <td>ham</td>
          <td>Ok thanx...</td>
        </tr>
        <tr>
          <th>4671</th>
          <td>spam</td>
          <td>Customer service announcement. We recently tri...</td>
        </tr>
        <tr>
          <th>2207</th>
          <td>ham</td>
          <td>Usually the body takes care of it buy making s...</td>
        </tr>
      </tbody>
    </table>
    </div>



.. code:: ipython3

    from sklearn.preprocessing import LabelEncoder
    encoder = LabelEncoder()

.. code:: ipython3

    df['target'] = encoder.fit_transform(df['target'])

.. code:: ipython3

    
    df.head()




.. raw:: html

    <div>
    <style scoped>
        .dataframe tbody tr th:only-of-type {
            vertical-align: middle;
        }
    
        .dataframe tbody tr th {
            vertical-align: top;
        }
    
        .dataframe thead th {
            text-align: right;
        }
    </style>
    <table border="1" class="dataframe">
      <thead>
        <tr style="text-align: right;">
          <th></th>
          <th>target</th>
          <th>text</th>
        </tr>
      </thead>
      <tbody>
        <tr>
          <th>0</th>
          <td>0</td>
          <td>Go until jurong point, crazy.. Available only ...</td>
        </tr>
        <tr>
          <th>1</th>
          <td>0</td>
          <td>Ok lar... Joking wif u oni...</td>
        </tr>
        <tr>
          <th>2</th>
          <td>1</td>
          <td>Free entry in 2 a wkly comp to win FA Cup fina...</td>
        </tr>
        <tr>
          <th>3</th>
          <td>0</td>
          <td>U dun say so early hor... U c already then say...</td>
        </tr>
        <tr>
          <th>4</th>
          <td>0</td>
          <td>Nah I don't think he goes to usf, he lives aro...</td>
        </tr>
      </tbody>
    </table>
    </div>



.. code:: ipython3

    df.isnull().sum()
    




.. parsed-literal::

    target    0
    text      0
    dtype: int64



.. code:: ipython3

    df.duplicated().sum()




.. parsed-literal::

    np.int64(403)



.. code:: ipython3

    df = df.drop_duplicates(keep='first')

.. code:: ipython3

    df.duplicated().sum()




.. parsed-literal::

    np.int64(0)



.. code:: ipython3

    df.shape




.. parsed-literal::

    (5169, 2)



.. code:: ipython3

    df.head()




.. raw:: html

    <div>
    <style scoped>
        .dataframe tbody tr th:only-of-type {
            vertical-align: middle;
        }
    
        .dataframe tbody tr th {
            vertical-align: top;
        }
    
        .dataframe thead th {
            text-align: right;
        }
    </style>
    <table border="1" class="dataframe">
      <thead>
        <tr style="text-align: right;">
          <th></th>
          <th>target</th>
          <th>text</th>
        </tr>
      </thead>
      <tbody>
        <tr>
          <th>0</th>
          <td>0</td>
          <td>Go until jurong point, crazy.. Available only ...</td>
        </tr>
        <tr>
          <th>1</th>
          <td>0</td>
          <td>Ok lar... Joking wif u oni...</td>
        </tr>
        <tr>
          <th>2</th>
          <td>1</td>
          <td>Free entry in 2 a wkly comp to win FA Cup fina...</td>
        </tr>
        <tr>
          <th>3</th>
          <td>0</td>
          <td>U dun say so early hor... U c already then say...</td>
        </tr>
        <tr>
          <th>4</th>
          <td>0</td>
          <td>Nah I don't think he goes to usf, he lives aro...</td>
        </tr>
      </tbody>
    </table>
    </div>



.. code:: ipython3

    df['target'].value_counts()




.. parsed-literal::

    target
    0    4516
    1     653
    Name: count, dtype: int64



.. code:: ipython3

    pip install matplotlib


.. parsed-literal::

    Requirement already satisfied: matplotlib in c:\users\nikithajos\appdata\local\programs\python\python312\lib\site-packages (3.9.2)
    Requirement already satisfied: contourpy>=1.0.1 in c:\users\nikithajos\appdata\local\programs\python\python312\lib\site-packages (from matplotlib) (1.2.1)
    Requirement already satisfied: cycler>=0.10 in c:\users\nikithajos\appdata\local\programs\python\python312\lib\site-packages (from matplotlib) (0.12.1)
    Requirement already satisfied: fonttools>=4.22.0 in c:\users\nikithajos\appdata\local\programs\python\python312\lib\site-packages (from matplotlib) (4.53.1)
    Requirement already satisfied: kiwisolver>=1.3.1 in c:\users\nikithajos\appdata\local\programs\python\python312\lib\site-packages (from matplotlib) (1.4.5)
    Requirement already satisfied: numpy>=1.23 in c:\users\nikithajos\appdata\local\programs\python\python312\lib\site-packages (from matplotlib) (2.0.1)
    Requirement already satisfied: packaging>=20.0 in c:\users\nikithajos\appdata\local\programs\python\python312\lib\site-packages (from matplotlib) (24.1)
    Requirement already satisfied: pillow>=8 in c:\users\nikithajos\appdata\local\programs\python\python312\lib\site-packages (from matplotlib) (10.4.0)
    Requirement already satisfied: pyparsing>=2.3.1 in c:\users\nikithajos\appdata\local\programs\python\python312\lib\site-packages (from matplotlib) (3.1.2)
    Requirement already satisfied: python-dateutil>=2.7 in c:\users\nikithajos\appdata\local\programs\python\python312\lib\site-packages (from matplotlib) (2.9.0.post0)
    Requirement already satisfied: six>=1.5 in c:\users\nikithajos\appdata\local\programs\python\python312\lib\site-packages (from python-dateutil>=2.7->matplotlib) (1.16.0)
    Note: you may need to restart the kernel to use updated packages.
    

.. parsed-literal::

    
    [notice] A new release of pip is available: 24.0 -> 24.2
    [notice] To update, run: python.exe -m pip install --upgrade pip
    

.. code:: ipython3

    import matplotlib.pyplot as plt
    plt.pie(df['target'].value_counts(), labels=['ham','spam'],autopct="%0.2f")
    plt.show()



.. image:: output_19_0.png


.. code:: ipython3

    import nltk

.. code:: ipython3

    nltk.download('punkt')


.. parsed-literal::

    [nltk_data] Downloading package punkt to
    [nltk_data]     C:\Users\nikithajos\AppData\Roaming\nltk_data...
    [nltk_data]   Package punkt is already up-to-date!
    



.. parsed-literal::

    True



.. code:: ipython3

    df['num_characters'] = df['text'].apply(len)
    

.. code:: ipython3

    df.head()




.. raw:: html

    <div>
    <style scoped>
        .dataframe tbody tr th:only-of-type {
            vertical-align: middle;
        }
    
        .dataframe tbody tr th {
            vertical-align: top;
        }
    
        .dataframe thead th {
            text-align: right;
        }
    </style>
    <table border="1" class="dataframe">
      <thead>
        <tr style="text-align: right;">
          <th></th>
          <th>target</th>
          <th>text</th>
          <th>num_characters</th>
        </tr>
      </thead>
      <tbody>
        <tr>
          <th>0</th>
          <td>0</td>
          <td>Go until jurong point, crazy.. Available only ...</td>
          <td>111</td>
        </tr>
        <tr>
          <th>1</th>
          <td>0</td>
          <td>Ok lar... Joking wif u oni...</td>
          <td>29</td>
        </tr>
        <tr>
          <th>2</th>
          <td>1</td>
          <td>Free entry in 2 a wkly comp to win FA Cup fina...</td>
          <td>155</td>
        </tr>
        <tr>
          <th>3</th>
          <td>0</td>
          <td>U dun say so early hor... U c already then say...</td>
          <td>49</td>
        </tr>
        <tr>
          <th>4</th>
          <td>0</td>
          <td>Nah I don't think he goes to usf, he lives aro...</td>
          <td>61</td>
        </tr>
      </tbody>
    </table>
    </div>



.. code:: ipython3

    df['num_words'] = df['text'].apply(lambda x:len(nltk.word_tokenize(x)))
    df.head()




.. raw:: html

    <div>
    <style scoped>
        .dataframe tbody tr th:only-of-type {
            vertical-align: middle;
        }
    
        .dataframe tbody tr th {
            vertical-align: top;
        }
    
        .dataframe thead th {
            text-align: right;
        }
    </style>
    <table border="1" class="dataframe">
      <thead>
        <tr style="text-align: right;">
          <th></th>
          <th>target</th>
          <th>text</th>
          <th>num_characters</th>
          <th>num_words</th>
        </tr>
      </thead>
      <tbody>
        <tr>
          <th>0</th>
          <td>0</td>
          <td>Go until jurong point, crazy.. Available only ...</td>
          <td>111</td>
          <td>24</td>
        </tr>
        <tr>
          <th>1</th>
          <td>0</td>
          <td>Ok lar... Joking wif u oni...</td>
          <td>29</td>
          <td>8</td>
        </tr>
        <tr>
          <th>2</th>
          <td>1</td>
          <td>Free entry in 2 a wkly comp to win FA Cup fina...</td>
          <td>155</td>
          <td>37</td>
        </tr>
        <tr>
          <th>3</th>
          <td>0</td>
          <td>U dun say so early hor... U c already then say...</td>
          <td>49</td>
          <td>13</td>
        </tr>
        <tr>
          <th>4</th>
          <td>0</td>
          <td>Nah I don't think he goes to usf, he lives aro...</td>
          <td>61</td>
          <td>15</td>
        </tr>
      </tbody>
    </table>
    </div>



.. code:: ipython3

    df['num_sentences'] = df['text'].apply(lambda x:len(nltk.sent_tokenize(x)))

.. code:: ipython3

    df.head()




.. raw:: html

    <div>
    <style scoped>
        .dataframe tbody tr th:only-of-type {
            vertical-align: middle;
        }
    
        .dataframe tbody tr th {
            vertical-align: top;
        }
    
        .dataframe thead th {
            text-align: right;
        }
    </style>
    <table border="1" class="dataframe">
      <thead>
        <tr style="text-align: right;">
          <th></th>
          <th>target</th>
          <th>text</th>
          <th>num_characters</th>
          <th>num_words</th>
          <th>num_sentences</th>
        </tr>
      </thead>
      <tbody>
        <tr>
          <th>0</th>
          <td>0</td>
          <td>Go until jurong point, crazy.. Available only ...</td>
          <td>111</td>
          <td>24</td>
          <td>2</td>
        </tr>
        <tr>
          <th>1</th>
          <td>0</td>
          <td>Ok lar... Joking wif u oni...</td>
          <td>29</td>
          <td>8</td>
          <td>2</td>
        </tr>
        <tr>
          <th>2</th>
          <td>1</td>
          <td>Free entry in 2 a wkly comp to win FA Cup fina...</td>
          <td>155</td>
          <td>37</td>
          <td>2</td>
        </tr>
        <tr>
          <th>3</th>
          <td>0</td>
          <td>U dun say so early hor... U c already then say...</td>
          <td>49</td>
          <td>13</td>
          <td>1</td>
        </tr>
        <tr>
          <th>4</th>
          <td>0</td>
          <td>Nah I don't think he goes to usf, he lives aro...</td>
          <td>61</td>
          <td>15</td>
          <td>1</td>
        </tr>
      </tbody>
    </table>
    </div>



.. code:: ipython3

    df[['num_characters','num_words','num_sentences']].describe()




.. raw:: html

    <div>
    <style scoped>
        .dataframe tbody tr th:only-of-type {
            vertical-align: middle;
        }
    
        .dataframe tbody tr th {
            vertical-align: top;
        }
    
        .dataframe thead th {
            text-align: right;
        }
    </style>
    <table border="1" class="dataframe">
      <thead>
        <tr style="text-align: right;">
          <th></th>
          <th>num_characters</th>
          <th>num_words</th>
          <th>num_sentences</th>
        </tr>
      </thead>
      <tbody>
        <tr>
          <th>count</th>
          <td>5169.000000</td>
          <td>5169.000000</td>
          <td>5169.000000</td>
        </tr>
        <tr>
          <th>mean</th>
          <td>78.977945</td>
          <td>18.455794</td>
          <td>1.965564</td>
        </tr>
        <tr>
          <th>std</th>
          <td>58.236293</td>
          <td>13.324758</td>
          <td>1.448541</td>
        </tr>
        <tr>
          <th>min</th>
          <td>2.000000</td>
          <td>1.000000</td>
          <td>1.000000</td>
        </tr>
        <tr>
          <th>25%</th>
          <td>36.000000</td>
          <td>9.000000</td>
          <td>1.000000</td>
        </tr>
        <tr>
          <th>50%</th>
          <td>60.000000</td>
          <td>15.000000</td>
          <td>1.000000</td>
        </tr>
        <tr>
          <th>75%</th>
          <td>117.000000</td>
          <td>26.000000</td>
          <td>2.000000</td>
        </tr>
        <tr>
          <th>max</th>
          <td>910.000000</td>
          <td>220.000000</td>
          <td>38.000000</td>
        </tr>
      </tbody>
    </table>
    </div>



.. code:: ipython3

    df[df['target'] == 0][['num_characters','num_words','num_sentences']].describe()




.. raw:: html

    <div>
    <style scoped>
        .dataframe tbody tr th:only-of-type {
            vertical-align: middle;
        }
    
        .dataframe tbody tr th {
            vertical-align: top;
        }
    
        .dataframe thead th {
            text-align: right;
        }
    </style>
    <table border="1" class="dataframe">
      <thead>
        <tr style="text-align: right;">
          <th></th>
          <th>num_characters</th>
          <th>num_words</th>
          <th>num_sentences</th>
        </tr>
      </thead>
      <tbody>
        <tr>
          <th>count</th>
          <td>4516.000000</td>
          <td>4516.000000</td>
          <td>4516.000000</td>
        </tr>
        <tr>
          <th>mean</th>
          <td>70.459256</td>
          <td>17.123782</td>
          <td>1.820195</td>
        </tr>
        <tr>
          <th>std</th>
          <td>56.358207</td>
          <td>13.493970</td>
          <td>1.383657</td>
        </tr>
        <tr>
          <th>min</th>
          <td>2.000000</td>
          <td>1.000000</td>
          <td>1.000000</td>
        </tr>
        <tr>
          <th>25%</th>
          <td>34.000000</td>
          <td>8.000000</td>
          <td>1.000000</td>
        </tr>
        <tr>
          <th>50%</th>
          <td>52.000000</td>
          <td>13.000000</td>
          <td>1.000000</td>
        </tr>
        <tr>
          <th>75%</th>
          <td>90.000000</td>
          <td>22.000000</td>
          <td>2.000000</td>
        </tr>
        <tr>
          <th>max</th>
          <td>910.000000</td>
          <td>220.000000</td>
          <td>38.000000</td>
        </tr>
      </tbody>
    </table>
    </div>



